{
 "cells": [
  {
   "cell_type": "code",
   "execution_count": null,
   "id": "4c5e399c",
   "metadata": {},
   "outputs": [],
   "source": [
    "import sys\n",
    "from pathlib import Path\n",
    "\n",
    "import pandas as pd\n",
    "\n",
    "PROJECT_ROOT = str(Path().cwd().parents[1].resolve())\n",
    "sys.path.insert(0, PROJECT_ROOT)\n",
    "\n",
    "import qlib\n",
    "from qlib.constant import REG_CN\n",
    "from qlib.data.dataset.loader import DolphinDBDataLoader, MySQLDataLoader"
   ]
  },
  {
   "cell_type": "markdown",
   "id": "82610079",
   "metadata": {},
   "source": [
    "# 说明\n",
    "\n",
    "`DolphinDBDataLoader`, `MySQLDataLoader`分别用于连接DolphinDB和MySQL数据库,类似于`StaticDataLoader`模块的做用,可以直接从数据库中加载数据,而不需要事先将数据下载到本地。\n",
    "\n",
    "用以支持简单数据或储存好的因子数据传入qlib模型训练和预测，传入过程类似:\n",
    "\n",
    "```mermaid\n",
    "graph TB\n",
    "\tStaticDataLoader-->DataHandlerLP;\n",
    "\tDolphinDBDataLoader-->DataHandlerLP;\n",
    "\tMySQLDataLoader-->DataHandlerLP;\n",
    "\tDataHandlerLP-->DatasetH;\n",
    "\tDatasetH-->Model[模型训练];\n",
    "\tModel-->analyizer[分析回测];\n",
    "```"
   ]
  },
  {
   "cell_type": "markdown",
   "id": "383e5556",
   "metadata": {},
   "source": [
    "## MySQLLoader\n",
    "\n",
    "参数`db_name`需要查询的数据库名,`table_name`需要查询的表名,`connect`为连接数据库的url,格式如下:\n",
    "```python\n",
    "\n",
    "url: str = \"mysql+mysql://用户名称:密码@IP地址:端口号\"\n",
    "msql_loader = MySQLDataLoader(\n",
    "    db_name=\"factor_db\",\n",
    "    table_name=\"daily_factor\",\n",
    "    connect=url,\n",
    "    config={\n",
    "        \"fields\": [\n",
    "            \"forecast_est_oper_cost_rolling_180d_cagr\",\n",
    "            \"forecast_est_oper_profit_rolling_180d_cagr\",\n",
    "        ],\n",
    "        \"datetime_colName\": \"trade_date\",\n",
    "        \"instruments_colName\": \"code\",\n",
    "        \"columns\": \"factor_name\",\n",
    "        \"values\": \"factor_value\",\n",
    "        \"pivot\": True,\n",
    "    },\n",
    ")\n",
    "```\n",
    "`config`参数注意是字典格式。`pivot`为True是,会将窄表转为宽表。根据`datetime_colName`将对应字段转为index,`instruments_colName`将对应字段转为columns,需要指定`columns`和`values`。由于是窄表所有会根据指定的columns查询对应fields并将values作为值。\n",
    "\n",
    "窄表结构类似于：\n",
    "|trade_date|code|factor_name|factor_value|\n",
    "|---|---|---|---|\n",
    "|2023-01-03|000001.SZ|forecast_est_oper_cost_rolling_180d_cagr|0.123|\n",
    "|2023-01-03|000001.SZ|forecast_est_oper_profit_rolling_180d_cagr|0.456|\n",
    "|2023-01-03|000002.SZ|forecast_est_oper_cost_rolling_180d_cagr|0.789|\n",
    "|2023-01-03|000002.SZ|forecast_est_oper_profit_rolling_180d_cagr|0.012|\n",
    "\n",
    "上述表格中,`trade_date`为时间列,`code`为标的列,`factor_name`为因子名称,`factor_value`为因子值。会根据`config`参数将表格转为宽表,类似于:\n",
    "\n",
    "|trade_date|code|forecast_est_oper_cost_rolling_180d_cagr|forecast_est_oper_profit_rolling_180d_cagr|\n",
    "|---|---|---|---|\n",
    "|2023-01-03|000001.SZ|0.123|0.456|\n",
    "|2023-01-03|000002.SZ|0.789|0.012|\n",
    "\n",
    "上述config的过程类似先使用mysql语句类似于:\n",
    "\n",
    "- step 1: 查询数据\n",
    "    ```sql\n",
    "    SELECT trade_date, code, factor_name, factor_value FROM factor_db.daily_factor \n",
    "    WHERE factor_name IN ('forecast_est_oper_cost_rolling_180d_cagr', 'forecast_est_oper_profit_rolling_180d_cagr');\n",
    "    ```\n",
    "- step 2: 转换数据\n",
    "    查询后在使用pd.pivot_table()进行转换。\n",
    "    ```python\n",
    "    pd.pivot_table(data, index=['trade_date', 'code'], columns='factor_name', values='factor_value')\n",
    "    ```\n",
    "\n",
    "- step3:数据获取\n",
    "    `load`方法于StaticDataLoader类似,可以指定时间区间,返回对应的DataFrame数据。如果`instruments`参数不指定,则返回所有标的。\n",
    "    ```python\n",
    "    example_df1: pd.DataFrame = msql_loader.load(\n",
    "    start_time=\"2025-01-01\",\n",
    "    end_time=\"2025-01-31\",\n",
    "    )\n",
    "    ```\n",
    "\n",
    "**注意**:\n",
    "1. 使用`MySQLDataLoader`需要安装`pymysql`,`SQLalchemy`包。\n",
    "2. 使用MySQLDataLoader需要保证数据库可以远程连接,如果是本地数据库,则`connect`参数可以设置为`mysql+pymysql://用户名称:密码@localhost:端口号`。\n",
    "3. `datetime_format`参数可以指定时间格式化,默认格式为`%Y-%m-%d`,如果数据库中时间格式为`20250101`,则需要指定`datetime_format=\"%Y%m%d\"`。\n",
    "4. 如果数据表为宽表,则不需要指定`columns`和`values`,并且`pivot`参数设置为False即可。\n",
    "5. 如果数据表为宽表,则`fields`参数可以不指定,默认查询所有字段。\n",
    "6. 无需使用qlib.init()进行初始化,直接使用即可。"
   ]
  },
  {
   "cell_type": "markdown",
   "id": "b9894d4e",
   "metadata": {},
   "source": [
    "### 窄表查询"
   ]
  },
  {
   "cell_type": "code",
   "execution_count": null,
   "id": "9ec004d9",
   "metadata": {},
   "outputs": [],
   "source": [
    "url: str = \"mysql+pymysql://username:password@ip:prot\"\n",
    "msql_loader = MySQLDataLoader(\n",
    "    db_name=\"stocklink\",\n",
    "    table_name=\"daily_factor\",\n",
    "    connect=url,\n",
    "    config={\n",
    "        \"fields\": [\n",
    "            \"forecast_est_oper_cost_rolling_180d_cagr\",\n",
    "            \"forecast_est_oper_profit_rolling_180d_cagr\",\n",
    "        ],\n",
    "        \"datetime_colName\": \"trade_date\",\n",
    "        \"instruments_colName\": \"code\",\n",
    "        \"columns\": \"factor_name\",\n",
    "        \"values\": \"factor_value\",\n",
    "        \"pivot\": True,  # 是否需要透视表，针对窄表设计\n",
    "    },\n",
    ")"
   ]
  },
  {
   "cell_type": "code",
   "execution_count": null,
   "id": "94708090",
   "metadata": {},
   "outputs": [],
   "source": [
    "# load方法参数\n",
    "example_df1: pd.DataFrame = msql_loader.load(\n",
    "    start_time=\"2025-01-01\",\n",
    "    end_time=\"2025-01-31\",\n",
    ")"
   ]
  },
  {
   "cell_type": "code",
   "execution_count": 4,
   "id": "dc0793c0",
   "metadata": {},
   "outputs": [
    {
     "data": {
      "application/vnd.microsoft.datawrangler.viewer.v0+json": {
       "columns": [
        {
         "name": "('trade_date', 'code')",
         "rawType": "object",
         "type": "unknown"
        },
        {
         "name": "forecast_est_oper_cost_rolling_180d_cagr",
         "rawType": "float64",
         "type": "float"
        },
        {
         "name": "forecast_est_oper_profit_rolling_180d_cagr",
         "rawType": "float64",
         "type": "float"
        }
       ],
       "ref": "a5c5b26d-e27a-4510-950f-dd10ff842c31",
       "rows": [
        [
         "(Timestamp('2025-01-02 00:00:00'), '000001.SZ')",
         null,
         "0.08463"
        ],
        [
         "(Timestamp('2025-01-02 00:00:00'), '000002.SZ')",
         "-0.153877",
         "-0.822999"
        ],
        [
         "(Timestamp('2025-01-02 00:00:00'), '000008.SZ')",
         "-0.030454",
         "-0.81366"
        ],
        [
         "(Timestamp('2025-01-02 00:00:00'), '000012.SZ')",
         "-0.00331",
         "-0.177573"
        ],
        [
         "(Timestamp('2025-01-02 00:00:00'), '000026.SZ')",
         "-0.024027",
         "-0.090818"
        ]
       ],
       "shape": {
        "columns": 2,
        "rows": 5
       }
      },
      "text/html": [
       "<div>\n",
       "<style scoped>\n",
       "    .dataframe tbody tr th:only-of-type {\n",
       "        vertical-align: middle;\n",
       "    }\n",
       "\n",
       "    .dataframe tbody tr th {\n",
       "        vertical-align: top;\n",
       "    }\n",
       "\n",
       "    .dataframe thead th {\n",
       "        text-align: right;\n",
       "    }\n",
       "</style>\n",
       "<table border=\"1\" class=\"dataframe\">\n",
       "  <thead>\n",
       "    <tr style=\"text-align: right;\">\n",
       "      <th></th>\n",
       "      <th>factor_name</th>\n",
       "      <th>forecast_est_oper_cost_rolling_180d_cagr</th>\n",
       "      <th>forecast_est_oper_profit_rolling_180d_cagr</th>\n",
       "    </tr>\n",
       "    <tr>\n",
       "      <th>trade_date</th>\n",
       "      <th>code</th>\n",
       "      <th></th>\n",
       "      <th></th>\n",
       "    </tr>\n",
       "  </thead>\n",
       "  <tbody>\n",
       "    <tr>\n",
       "      <th rowspan=\"5\" valign=\"top\">2025-01-02</th>\n",
       "      <th>000001.SZ</th>\n",
       "      <td>NaN</td>\n",
       "      <td>0.084630</td>\n",
       "    </tr>\n",
       "    <tr>\n",
       "      <th>000002.SZ</th>\n",
       "      <td>-0.153877</td>\n",
       "      <td>-0.822999</td>\n",
       "    </tr>\n",
       "    <tr>\n",
       "      <th>000008.SZ</th>\n",
       "      <td>-0.030454</td>\n",
       "      <td>-0.813660</td>\n",
       "    </tr>\n",
       "    <tr>\n",
       "      <th>000012.SZ</th>\n",
       "      <td>-0.003310</td>\n",
       "      <td>-0.177573</td>\n",
       "    </tr>\n",
       "    <tr>\n",
       "      <th>000026.SZ</th>\n",
       "      <td>-0.024027</td>\n",
       "      <td>-0.090818</td>\n",
       "    </tr>\n",
       "  </tbody>\n",
       "</table>\n",
       "</div>"
      ],
      "text/plain": [
       "factor_name           forecast_est_oper_cost_rolling_180d_cagr  \\\n",
       "trade_date code                                                  \n",
       "2025-01-02 000001.SZ                                       NaN   \n",
       "           000002.SZ                                 -0.153877   \n",
       "           000008.SZ                                 -0.030454   \n",
       "           000012.SZ                                 -0.003310   \n",
       "           000026.SZ                                 -0.024027   \n",
       "\n",
       "factor_name           forecast_est_oper_profit_rolling_180d_cagr  \n",
       "trade_date code                                                   \n",
       "2025-01-02 000001.SZ                                    0.084630  \n",
       "           000002.SZ                                   -0.822999  \n",
       "           000008.SZ                                   -0.813660  \n",
       "           000012.SZ                                   -0.177573  \n",
       "           000026.SZ                                   -0.090818  "
      ]
     },
     "execution_count": 4,
     "metadata": {},
     "output_type": "execute_result"
    }
   ],
   "source": [
    "example_df1.head()"
   ]
  },
  {
   "cell_type": "code",
   "execution_count": 6,
   "id": "936358a0",
   "metadata": {},
   "outputs": [],
   "source": [
    "# load方法参数\n",
    "example_df2: pd.DataFrame = msql_loader.load(\n",
    "    instruments=[\"000001.SZ\", \"000002.SZ\"],\n",
    "    start_time=\"2025-01-01\",\n",
    "    end_time=\"2025-01-31\",\n",
    ")"
   ]
  },
  {
   "cell_type": "code",
   "execution_count": 9,
   "id": "12b39e91",
   "metadata": {},
   "outputs": [
    {
     "data": {
      "application/vnd.microsoft.datawrangler.viewer.v0+json": {
       "columns": [
        {
         "name": "('trade_date', 'code')",
         "rawType": "object",
         "type": "unknown"
        },
        {
         "name": "forecast_est_oper_cost_rolling_180d_cagr",
         "rawType": "float64",
         "type": "float"
        },
        {
         "name": "forecast_est_oper_profit_rolling_180d_cagr",
         "rawType": "float64",
         "type": "float"
        }
       ],
       "ref": "eaac9f9a-5b3a-477f-8408-529d41b6e014",
       "rows": [
        [
         "(Timestamp('2025-01-23 00:00:00'), '000002.SZ')",
         "-0.147549",
         "-0.915713"
        ],
        [
         "(Timestamp('2025-01-24 00:00:00'), '000001.SZ')",
         null,
         "0.08463"
        ],
        [
         "(Timestamp('2025-01-24 00:00:00'), '000002.SZ')",
         "-0.147549",
         "-0.915713"
        ],
        [
         "(Timestamp('2025-01-27 00:00:00'), '000001.SZ')",
         null,
         "0.08463"
        ],
        [
         "(Timestamp('2025-01-27 00:00:00'), '000002.SZ')",
         "-0.151105",
         "-0.915713"
        ]
       ],
       "shape": {
        "columns": 2,
        "rows": 5
       }
      },
      "text/html": [
       "<div>\n",
       "<style scoped>\n",
       "    .dataframe tbody tr th:only-of-type {\n",
       "        vertical-align: middle;\n",
       "    }\n",
       "\n",
       "    .dataframe tbody tr th {\n",
       "        vertical-align: top;\n",
       "    }\n",
       "\n",
       "    .dataframe thead th {\n",
       "        text-align: right;\n",
       "    }\n",
       "</style>\n",
       "<table border=\"1\" class=\"dataframe\">\n",
       "  <thead>\n",
       "    <tr style=\"text-align: right;\">\n",
       "      <th></th>\n",
       "      <th>factor_name</th>\n",
       "      <th>forecast_est_oper_cost_rolling_180d_cagr</th>\n",
       "      <th>forecast_est_oper_profit_rolling_180d_cagr</th>\n",
       "    </tr>\n",
       "    <tr>\n",
       "      <th>trade_date</th>\n",
       "      <th>code</th>\n",
       "      <th></th>\n",
       "      <th></th>\n",
       "    </tr>\n",
       "  </thead>\n",
       "  <tbody>\n",
       "    <tr>\n",
       "      <th>2025-01-23</th>\n",
       "      <th>000002.SZ</th>\n",
       "      <td>-0.147549</td>\n",
       "      <td>-0.915713</td>\n",
       "    </tr>\n",
       "    <tr>\n",
       "      <th rowspan=\"2\" valign=\"top\">2025-01-24</th>\n",
       "      <th>000001.SZ</th>\n",
       "      <td>NaN</td>\n",
       "      <td>0.084630</td>\n",
       "    </tr>\n",
       "    <tr>\n",
       "      <th>000002.SZ</th>\n",
       "      <td>-0.147549</td>\n",
       "      <td>-0.915713</td>\n",
       "    </tr>\n",
       "    <tr>\n",
       "      <th rowspan=\"2\" valign=\"top\">2025-01-27</th>\n",
       "      <th>000001.SZ</th>\n",
       "      <td>NaN</td>\n",
       "      <td>0.084630</td>\n",
       "    </tr>\n",
       "    <tr>\n",
       "      <th>000002.SZ</th>\n",
       "      <td>-0.151105</td>\n",
       "      <td>-0.915713</td>\n",
       "    </tr>\n",
       "  </tbody>\n",
       "</table>\n",
       "</div>"
      ],
      "text/plain": [
       "factor_name           forecast_est_oper_cost_rolling_180d_cagr  \\\n",
       "trade_date code                                                  \n",
       "2025-01-23 000002.SZ                                 -0.147549   \n",
       "2025-01-24 000001.SZ                                       NaN   \n",
       "           000002.SZ                                 -0.147549   \n",
       "2025-01-27 000001.SZ                                       NaN   \n",
       "           000002.SZ                                 -0.151105   \n",
       "\n",
       "factor_name           forecast_est_oper_profit_rolling_180d_cagr  \n",
       "trade_date code                                                   \n",
       "2025-01-23 000002.SZ                                   -0.915713  \n",
       "2025-01-24 000001.SZ                                    0.084630  \n",
       "           000002.SZ                                   -0.915713  \n",
       "2025-01-27 000001.SZ                                    0.084630  \n",
       "           000002.SZ                                   -0.915713  "
      ]
     },
     "execution_count": 9,
     "metadata": {},
     "output_type": "execute_result"
    }
   ],
   "source": [
    "example_df2.tail()"
   ]
  },
  {
   "cell_type": "code",
   "execution_count": 8,
   "id": "f5a4fa69",
   "metadata": {},
   "outputs": [
    {
     "data": {
      "text/plain": [
       "Index(['000001.SZ', '000002.SZ'], dtype='object', name='code')"
      ]
     },
     "execution_count": 8,
     "metadata": {},
     "output_type": "execute_result"
    }
   ],
   "source": [
    "example_df2.index.levels[1]"
   ]
  },
  {
   "cell_type": "markdown",
   "id": "2bf61b0f",
   "metadata": {},
   "source": [
    "### 宽表查询"
   ]
  },
  {
   "cell_type": "code",
   "execution_count": null,
   "id": "dc1d7ed2",
   "metadata": {},
   "outputs": [],
   "source": [
    "url: str = \"mysql+pymysql://username:password@ip:port\"\n",
    "msql_loader2 = MySQLDataLoader(\n",
    "    db_name=\"windDB\",\n",
    "    table_name=\"ASHAREEODPRICES\",\n",
    "    connect=url,\n",
    "    config={\n",
    "        \"fields\": [\n",
    "            \"S_DQ_ADJCLOSE\",\n",
    "            \"S_DQ_VOLUME\",\n",
    "        ],\n",
    "        \"datetime_colName\": \"TRADE_DT\",\n",
    "        \"instruments_colName\": \"S_INFO_WINDCODE\",\n",
    "        \"datetime_format\": \"%Y%m%d\",  # 日期格式化\n",
    "        \"pivot\": False,  # 是否需要透视表，针对窄表设计\n",
    "    },\n",
    ")"
   ]
  },
  {
   "cell_type": "code",
   "execution_count": 43,
   "id": "36fa4e3a",
   "metadata": {},
   "outputs": [],
   "source": [
    "example_df3: pd.DataFrame = msql_loader2.load(\n",
    "    start_time=\"20250101\",\n",
    "    end_time=\"20250131\",\n",
    ")"
   ]
  },
  {
   "cell_type": "code",
   "execution_count": 44,
   "id": "a02aaa83",
   "metadata": {},
   "outputs": [
    {
     "data": {
      "application/vnd.microsoft.datawrangler.viewer.v0+json": {
       "columns": [
        {
         "name": "('TRADE_DT', 'S_INFO_WINDCODE')",
         "rawType": "object",
         "type": "unknown"
        },
        {
         "name": "S_DQ_ADJCLOSE",
         "rawType": "float64",
         "type": "float"
        },
        {
         "name": "S_DQ_VOLUME",
         "rawType": "float64",
         "type": "float"
        }
       ],
       "ref": "f478040e-da01-4b59-a414-90bab68d7bc9",
       "rows": [
        [
         "(Timestamp('2025-01-02 00:00:00'), '832876.BJ')",
         "44.3811",
         "11921.21"
        ],
        [
         "(Timestamp('2025-01-02 00:00:00'), '002917.SZ')",
         "23.3019",
         "91972.71"
        ],
        [
         "(Timestamp('2025-01-02 00:00:00'), '002256.SZ')",
         "36.999",
         "463626.0"
        ],
        [
         "(Timestamp('2025-01-02 00:00:00'), '300331.SZ')",
         "64.7908",
         "66369.66"
        ],
        [
         "(Timestamp('2025-01-02 00:00:00'), '601156.SH')",
         "17.8867",
         "137364.09"
        ]
       ],
       "shape": {
        "columns": 2,
        "rows": 5
       }
      },
      "text/html": [
       "<div>\n",
       "<style scoped>\n",
       "    .dataframe tbody tr th:only-of-type {\n",
       "        vertical-align: middle;\n",
       "    }\n",
       "\n",
       "    .dataframe tbody tr th {\n",
       "        vertical-align: top;\n",
       "    }\n",
       "\n",
       "    .dataframe thead th {\n",
       "        text-align: right;\n",
       "    }\n",
       "</style>\n",
       "<table border=\"1\" class=\"dataframe\">\n",
       "  <thead>\n",
       "    <tr style=\"text-align: right;\">\n",
       "      <th></th>\n",
       "      <th></th>\n",
       "      <th>S_DQ_ADJCLOSE</th>\n",
       "      <th>S_DQ_VOLUME</th>\n",
       "    </tr>\n",
       "    <tr>\n",
       "      <th>TRADE_DT</th>\n",
       "      <th>S_INFO_WINDCODE</th>\n",
       "      <th></th>\n",
       "      <th></th>\n",
       "    </tr>\n",
       "  </thead>\n",
       "  <tbody>\n",
       "    <tr>\n",
       "      <th rowspan=\"5\" valign=\"top\">2025-01-02</th>\n",
       "      <th>832876.BJ</th>\n",
       "      <td>44.3811</td>\n",
       "      <td>11921.21</td>\n",
       "    </tr>\n",
       "    <tr>\n",
       "      <th>002917.SZ</th>\n",
       "      <td>23.3019</td>\n",
       "      <td>91972.71</td>\n",
       "    </tr>\n",
       "    <tr>\n",
       "      <th>002256.SZ</th>\n",
       "      <td>36.9990</td>\n",
       "      <td>463626.00</td>\n",
       "    </tr>\n",
       "    <tr>\n",
       "      <th>300331.SZ</th>\n",
       "      <td>64.7908</td>\n",
       "      <td>66369.66</td>\n",
       "    </tr>\n",
       "    <tr>\n",
       "      <th>601156.SH</th>\n",
       "      <td>17.8867</td>\n",
       "      <td>137364.09</td>\n",
       "    </tr>\n",
       "  </tbody>\n",
       "</table>\n",
       "</div>"
      ],
      "text/plain": [
       "                            S_DQ_ADJCLOSE  S_DQ_VOLUME\n",
       "TRADE_DT   S_INFO_WINDCODE                            \n",
       "2025-01-02 832876.BJ              44.3811     11921.21\n",
       "           002917.SZ              23.3019     91972.71\n",
       "           002256.SZ              36.9990    463626.00\n",
       "           300331.SZ              64.7908     66369.66\n",
       "           601156.SH              17.8867    137364.09"
      ]
     },
     "execution_count": 44,
     "metadata": {},
     "output_type": "execute_result"
    }
   ],
   "source": [
    "example_df3.head()"
   ]
  },
  {
   "cell_type": "markdown",
   "id": "8f53509b",
   "metadata": {},
   "source": [
    "## DolphinDBDataLoader\n",
    "\n",
    "通过qlib.init初始化后,可以直接使用DolphinDBDataLoader加载数据,类似于MySQLDataloader的用法,只需要指定数据库名和表名即可。"
   ]
  },
  {
   "cell_type": "code",
   "execution_count": null,
   "id": "fbc075f0",
   "metadata": {},
   "outputs": [],
   "source": [
    "uri = \"dolphindb://username:password@ip:port\"\n",
    "qlib.init(database_uri=uri, region=REG_CN)"
   ]
  },
  {
   "cell_type": "code",
   "execution_count": null,
   "id": "40130fc7",
   "metadata": {},
   "outputs": [],
   "source": [
    "# 通过init初始化后，可以直接使用DolphinDBDataLoader加载数据\n",
    "ddb_Loader = DolphinDBDataLoader(\n",
    "    db_name=\"DailyBase\",\n",
    "    table_name=\"stockDerivative\",\n",
    "    config={\n",
    "        \"fields\": [\"S_PQ_HIGH_52W_\", \"S_VAL_PE\"],\n",
    "        \"datetime_colName\": \"TRADE_DT\",\n",
    "        \"instruments_colName\": \"S_INFO_WINDCODE\",\n",
    "        \"pivot\": False,\n",
    "    },\n",
    ")"
   ]
  },
  {
   "cell_type": "code",
   "execution_count": 48,
   "id": "06f06e6d",
   "metadata": {},
   "outputs": [
    {
     "data": {
      "application/vnd.microsoft.datawrangler.viewer.v0+json": {
       "columns": [
        {
         "name": "('TRADE_DT', 'S_INFO_WINDCODE')",
         "rawType": "object",
         "type": "unknown"
        },
        {
         "name": "S_PQ_HIGH_52W_",
         "rawType": "float64",
         "type": "float"
        },
        {
         "name": "S_VAL_PE",
         "rawType": "float64",
         "type": "float"
        }
       ],
       "ref": "b2d6a616-129f-4cae-b7ac-734a9eb73c84",
       "rows": [
        [
         "(Timestamp('2025-01-02 00:00:00'), '600230.SH')",
         "13.89",
         "22.6319"
        ],
        [
         "(Timestamp('2025-01-02 00:00:00'), '301552.SZ')",
         "83.08",
         "28.1303"
        ],
        [
         "(Timestamp('2025-01-02 00:00:00'), '688528.SH')",
         "13.99",
         null
        ],
        [
         "(Timestamp('2025-01-02 00:00:00'), '605028.SH')",
         "26.0",
         "14.1318"
        ],
        [
         "(Timestamp('2025-01-02 00:00:00'), '600237.SH')",
         "8.57",
         "46.6784"
        ],
        [
         "(Timestamp('2025-01-02 00:00:00'), '002465.SZ')",
         "13.88",
         "37.2448"
        ],
        [
         "(Timestamp('2025-01-02 00:00:00'), '300732.SZ')",
         "10.23",
         "17.6659"
        ],
        [
         "(Timestamp('2025-01-02 00:00:00'), '002428.SZ')",
         "29.6",
         "1718.3576"
        ],
        [
         "(Timestamp('2025-01-02 00:00:00'), '600007.SH')",
         "30.34",
         "19.3505"
        ],
        [
         "(Timestamp('2025-01-02 00:00:00'), '688701.SH')",
         "9.64",
         null
        ],
        [
         "(Timestamp('2025-01-02 00:00:00'), '000756.SZ')",
         "20.88",
         "20.9322"
        ],
        [
         "(Timestamp('2025-01-02 00:00:00'), '688118.SH')",
         "30.4",
         null
        ],
        [
         "(Timestamp('2025-01-02 00:00:00'), '300068.SZ')",
         "25.34",
         "409.983"
        ],
        [
         "(Timestamp('2025-01-02 00:00:00'), '832491.BJ')",
         "31.0",
         "39.3115"
        ],
        [
         "(Timestamp('2025-01-02 00:00:00'), '603829.SH')",
         "17.74",
         "19.488"
        ],
        [
         "(Timestamp('2025-01-02 00:00:00'), '002646.SZ')",
         "13.64",
         "58.2721"
        ],
        [
         "(Timestamp('2025-01-02 00:00:00'), '003025.SZ')",
         "21.29",
         "33.1702"
        ],
        [
         "(Timestamp('2025-01-02 00:00:00'), '300552.SZ')",
         "47.88",
         null
        ],
        [
         "(Timestamp('2025-01-02 00:00:00'), '300801.SZ')",
         "22.3",
         "23.8383"
        ],
        [
         "(Timestamp('2025-01-02 00:00:00'), '601369.SH')",
         "9.94",
         "14.1054"
        ],
        [
         "(Timestamp('2025-01-02 00:00:00'), '002518.SZ')",
         "27.7",
         "14.9914"
        ],
        [
         "(Timestamp('2025-01-02 00:00:00'), '600597.SH')",
         "10.18",
         "12.013"
        ],
        [
         "(Timestamp('2025-01-02 00:00:00'), '603515.SH')",
         "20.8",
         "13.2179"
        ],
        [
         "(Timestamp('2025-01-02 00:00:00'), '603105.SH')",
         "11.61",
         "19.35"
        ],
        [
         "(Timestamp('2025-01-02 00:00:00'), '603132.SH')",
         "15.15",
         "31.6225"
        ],
        [
         "(Timestamp('2025-01-02 00:00:00'), '002913.SZ')",
         "30.9",
         "14.0253"
        ],
        [
         "(Timestamp('2025-01-02 00:00:00'), '600956.SH')",
         "9.39",
         "14.0033"
        ],
        [
         "(Timestamp('2025-01-02 00:00:00'), '601818.SH')",
         "3.97",
         "5.4028"
        ],
        [
         "(Timestamp('2025-01-02 00:00:00'), '600926.SH')",
         "15.46",
         "5.9894"
        ],
        [
         "(Timestamp('2025-01-02 00:00:00'), '002166.SZ')",
         "10.3",
         "66.725"
        ],
        [
         "(Timestamp('2025-01-02 00:00:00'), '430047.BJ')",
         "18.9",
         null
        ],
        [
         "(Timestamp('2025-01-02 00:00:00'), '000529.SZ')",
         "8.2",
         "16.1818"
        ],
        [
         "(Timestamp('2025-01-02 00:00:00'), '300559.SZ')",
         "15.78",
         "35.1227"
        ],
        [
         "(Timestamp('2025-01-02 00:00:00'), '603189.SH')",
         "21.6",
         null
        ],
        [
         "(Timestamp('2025-01-02 00:00:00'), '688426.SH')",
         "32.38",
         null
        ],
        [
         "(Timestamp('2025-01-02 00:00:00'), '001389.SZ')",
         "58.68",
         "51.3781"
        ],
        [
         "(Timestamp('2025-01-02 00:00:00'), '600841.SH')",
         "7.0",
         null
        ],
        [
         "(Timestamp('2025-01-02 00:00:00'), '300968.SZ')",
         "28.55",
         "520.4416"
        ],
        [
         "(Timestamp('2025-01-02 00:00:00'), '300634.SZ')",
         "27.79",
         "29.1189"
        ],
        [
         "(Timestamp('2025-01-02 00:00:00'), '300295.SZ')",
         "24.24",
         null
        ],
        [
         "(Timestamp('2025-01-02 00:00:00'), '688370.SH')",
         "24.92",
         "29.8538"
        ],
        [
         "(Timestamp('2025-01-02 00:00:00'), '301106.SZ')",
         "45.88",
         "39.7364"
        ],
        [
         "(Timestamp('2025-01-02 00:00:00'), '300126.SZ')",
         "7.62",
         "383.1333"
        ],
        [
         "(Timestamp('2025-01-02 00:00:00'), '871478.BJ')",
         "44.45",
         "85.2571"
        ],
        [
         "(Timestamp('2025-01-02 00:00:00'), '301093.SZ')",
         "32.54",
         "25.7762"
        ],
        [
         "(Timestamp('2025-01-02 00:00:00'), '600827.SH')",
         "12.77",
         "49.5758"
        ],
        [
         "(Timestamp('2025-01-02 00:00:00'), '300718.SZ')",
         "35.08",
         "40.1597"
        ],
        [
         "(Timestamp('2025-01-02 00:00:00'), '600330.SH')",
         "9.08",
         "26.4945"
        ],
        [
         "(Timestamp('2025-01-02 00:00:00'), '300378.SZ')",
         "33.46",
         "44.6495"
        ],
        [
         "(Timestamp('2025-01-02 00:00:00'), '000708.SZ')",
         "17.28",
         "9.9334"
        ]
       ],
       "shape": {
        "columns": 2,
        "rows": 118581
       }
      },
      "text/html": [
       "<div>\n",
       "<style scoped>\n",
       "    .dataframe tbody tr th:only-of-type {\n",
       "        vertical-align: middle;\n",
       "    }\n",
       "\n",
       "    .dataframe tbody tr th {\n",
       "        vertical-align: top;\n",
       "    }\n",
       "\n",
       "    .dataframe thead th {\n",
       "        text-align: right;\n",
       "    }\n",
       "</style>\n",
       "<table border=\"1\" class=\"dataframe\">\n",
       "  <thead>\n",
       "    <tr style=\"text-align: right;\">\n",
       "      <th></th>\n",
       "      <th></th>\n",
       "      <th>S_PQ_HIGH_52W_</th>\n",
       "      <th>S_VAL_PE</th>\n",
       "    </tr>\n",
       "    <tr>\n",
       "      <th>TRADE_DT</th>\n",
       "      <th>S_INFO_WINDCODE</th>\n",
       "      <th></th>\n",
       "      <th></th>\n",
       "    </tr>\n",
       "  </thead>\n",
       "  <tbody>\n",
       "    <tr>\n",
       "      <th rowspan=\"5\" valign=\"top\">2025-01-02</th>\n",
       "      <th>600230.SH</th>\n",
       "      <td>13.89</td>\n",
       "      <td>22.6319</td>\n",
       "    </tr>\n",
       "    <tr>\n",
       "      <th>301552.SZ</th>\n",
       "      <td>83.08</td>\n",
       "      <td>28.1303</td>\n",
       "    </tr>\n",
       "    <tr>\n",
       "      <th>688528.SH</th>\n",
       "      <td>13.99</td>\n",
       "      <td>NaN</td>\n",
       "    </tr>\n",
       "    <tr>\n",
       "      <th>605028.SH</th>\n",
       "      <td>26.00</td>\n",
       "      <td>14.1318</td>\n",
       "    </tr>\n",
       "    <tr>\n",
       "      <th>600237.SH</th>\n",
       "      <td>8.57</td>\n",
       "      <td>46.6784</td>\n",
       "    </tr>\n",
       "    <tr>\n",
       "      <th>...</th>\n",
       "      <th>...</th>\n",
       "      <td>...</td>\n",
       "      <td>...</td>\n",
       "    </tr>\n",
       "    <tr>\n",
       "      <th rowspan=\"5\" valign=\"top\">2025-01-31</th>\n",
       "      <th>002452.SZ</th>\n",
       "      <td>9.27</td>\n",
       "      <td>27.0603</td>\n",
       "    </tr>\n",
       "    <tr>\n",
       "      <th>688088.SH</th>\n",
       "      <td>51.84</td>\n",
       "      <td>223.5079</td>\n",
       "    </tr>\n",
       "    <tr>\n",
       "      <th>002853.SZ</th>\n",
       "      <td>13.43</td>\n",
       "      <td>24.6036</td>\n",
       "    </tr>\n",
       "    <tr>\n",
       "      <th>002044.SZ</th>\n",
       "      <td>5.72</td>\n",
       "      <td>33.7528</td>\n",
       "    </tr>\n",
       "    <tr>\n",
       "      <th>000151.SZ</th>\n",
       "      <td>18.90</td>\n",
       "      <td>NaN</td>\n",
       "    </tr>\n",
       "  </tbody>\n",
       "</table>\n",
       "<p>118581 rows × 2 columns</p>\n",
       "</div>"
      ],
      "text/plain": [
       "                            S_PQ_HIGH_52W_  S_VAL_PE\n",
       "TRADE_DT   S_INFO_WINDCODE                          \n",
       "2025-01-02 600230.SH                 13.89   22.6319\n",
       "           301552.SZ                 83.08   28.1303\n",
       "           688528.SH                 13.99       NaN\n",
       "           605028.SH                 26.00   14.1318\n",
       "           600237.SH                  8.57   46.6784\n",
       "...                                    ...       ...\n",
       "2025-01-31 002452.SZ                  9.27   27.0603\n",
       "           688088.SH                 51.84  223.5079\n",
       "           002853.SZ                 13.43   24.6036\n",
       "           002044.SZ                  5.72   33.7528\n",
       "           000151.SZ                 18.90       NaN\n",
       "\n",
       "[118581 rows x 2 columns]"
      ]
     },
     "execution_count": 48,
     "metadata": {},
     "output_type": "execute_result"
    }
   ],
   "source": [
    "ddb_Loader.load(\n",
    "    start_time=\"2025-01-01\",\n",
    "    end_time=\"2025-01-31\",\n",
    ")"
   ]
  }
 ],
 "metadata": {
  "kernelspec": {
   "display_name": "dev",
   "language": "python",
   "name": "python3"
  },
  "language_info": {
   "codemirror_mode": {
    "name": "ipython",
    "version": 3
   },
   "file_extension": ".py",
   "mimetype": "text/x-python",
   "name": "python",
   "nbconvert_exporter": "python",
   "pygments_lexer": "ipython3",
   "version": "3.10.14"
  }
 },
 "nbformat": 4,
 "nbformat_minor": 5
}
